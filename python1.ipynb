{
  "nbformat": 4,
  "nbformat_minor": 0,
  "metadata": {
    "colab": {
      "name": "python1.ipynb",
      "provenance": [],
      "authorship_tag": "ABX9TyNWYIcu9RwLGnQZA+l1Hwp3",
      "include_colab_link": true
    },
    "kernelspec": {
      "name": "python3",
      "display_name": "Python 3"
    }
  },
  "cells": [
    {
      "cell_type": "markdown",
      "metadata": {
        "id": "view-in-github",
        "colab_type": "text"
      },
      "source": [
        "<a href=\"https://colab.research.google.com/github/hoffenbauer/github-slideshow/blob/master/python1.ipynb\" target=\"_parent\"><img src=\"https://colab.research.google.com/assets/colab-badge.svg\" alt=\"Open In Colab\"/></a>"
      ]
    },
    {
      "cell_type": "markdown",
      "metadata": {
        "id": "LZ5KgBXg9BeS",
        "colab_type": "text"
      },
      "source": [
        "<p><strong> Fórmula </p>\n",
        "<img src=\"https://segredosdomundo.r7.com/wp-content/uploads/2019/07/ja-procurou-saber-como-esta-o-seu-indice-de-massa-corporal-confira-5.jpg\" width=\"200\" height=\"100\">"
      ]
    },
    {
      "cell_type": "code",
      "metadata": {
        "id": "y-9vNenW8oYj",
        "colab_type": "code",
        "colab": {}
      },
      "source": [
        "def calcula_imc(peso, altura):\n",
        "  imc = float(peso)/float(altura)**2\n",
        "  imc_arredondado = round(imc, 2)\n",
        "  return imc_arredondado"
      ],
      "execution_count": 5,
      "outputs": []
    },
    {
      "cell_type": "code",
      "metadata": {
        "id": "1wIDBkgL--z3",
        "colab_type": "code",
        "colab": {
          "base_uri": "https://localhost:8080/",
          "height": 34
        },
        "outputId": "7a8f0fc9-2178-4962-b64f-42310317b5f1"
      },
      "source": [
        "calcula_imc(85, 1.9)"
      ],
      "execution_count": 6,
      "outputs": [
        {
          "output_type": "execute_result",
          "data": {
            "text/plain": [
              "23.55"
            ]
          },
          "metadata": {
            "tags": []
          },
          "execution_count": 6
        }
      ]
    },
    {
      "cell_type": "code",
      "metadata": {
        "id": "PbL4GVoCC1Na",
        "colab_type": "code",
        "colab": {}
      },
      "source": [
        "def calcula_imc():\n",
        "  nome = input(\"Olá, qual seu nome? \")\n",
        "  peso = input(\"Qual seu peso em quilogramas? (Use ponto, ex.: 65.8 kg) \")\n",
        "  altura = input(\"Qual sua altura em metros? (Use ponto, ex.: 1.79 m) \")\n",
        "  imc = float(peso)/float(altura)**2\n",
        "  imc_arredondado = round(imc, 2)\n",
        "  if imc_arredondado < 25:\n",
        "    return f\"{nome}, seu IMC é {imc_arredondado}. Você está no peso ideal!\"\n",
        "  else:\n",
        "    return f\"{nome}, seu IMC é {imc_arredondado}. Você está acima do peso ideal!\"\n"
      ],
      "execution_count": 7,
      "outputs": []
    },
    {
      "cell_type": "markdown",
      "metadata": {
        "id": "8YqaSZgXYJ5g",
        "colab_type": "text"
      },
      "source": [
        "![](https://i.imgur.com/YX6UATs.png)\n"
      ]
    },
    {
      "cell_type": "markdown",
      "metadata": {
        "id": "hhUVzDipaGb9",
        "colab_type": "text"
      },
      "source": [
        "### **Exercícios de Python - 1** \n",
        "\n",
        "\n",
        "\n"
      ]
    },
    {
      "cell_type": "markdown",
      "metadata": {
        "id": "7O6AZt8-aGlr",
        "colab_type": "text"
      },
      "source": [
        "1 - Faça um Programa que peça dois números e imprima a soma.\n"
      ]
    },
    {
      "cell_type": "code",
      "metadata": {
        "id": "ibipMzmZcfIF",
        "colab_type": "code",
        "colab": {
          "base_uri": "https://localhost:8080/",
          "height": 68
        },
        "outputId": "2bf04778-2206-4d98-b37c-c17502d91003"
      },
      "source": [
        "def soma():\n",
        "  num1 = input(\"Digite um número: \")\n",
        "  num2 = input(\"Digite outro número: \")\n",
        "  return float(num1)+float(num2)\n",
        "soma()"
      ],
      "execution_count": 8,
      "outputs": [
        {
          "output_type": "stream",
          "text": [
            "Digite um número: 1\n",
            "Digite outro número: 2\n"
          ],
          "name": "stdout"
        },
        {
          "output_type": "execute_result",
          "data": {
            "text/plain": [
              "3.0"
            ]
          },
          "metadata": {
            "tags": []
          },
          "execution_count": 8
        }
      ]
    },
    {
      "cell_type": "markdown",
      "metadata": {
        "id": "c62cM2VlKFqN",
        "colab_type": "text"
      },
      "source": [
        "2 - Faça uma função que informe a quantidade de dígitos de um determinado número inteiro informado."
      ]
    },
    {
      "cell_type": "code",
      "metadata": {
        "id": "M_5mNjNbKFMI",
        "colab_type": "code",
        "colab": {
          "base_uri": "https://localhost:8080/",
          "height": 51
        },
        "outputId": "0f70c0b5-8dce-48bc-eb91-851433142fc7"
      },
      "source": [
        "def conta_num():\n",
        "  num = input(\"Informe um número inteiro: \")\n",
        "  return len(num)\n",
        "conta_num()"
      ],
      "execution_count": 9,
      "outputs": [
        {
          "output_type": "stream",
          "text": [
            "Informe um número inteiro: 36521475287569\n"
          ],
          "name": "stdout"
        },
        {
          "output_type": "execute_result",
          "data": {
            "text/plain": [
              "14"
            ]
          },
          "metadata": {
            "tags": []
          },
          "execution_count": 9
        }
      ]
    },
    {
      "cell_type": "markdown",
      "metadata": {
        "id": "qMGp-h8OaGqr",
        "colab_type": "text"
      },
      "source": [
        "3 - Faça um programa, com uma função que necessite de três argumentos, e que forneça a soma desses três argumentos."
      ]
    },
    {
      "cell_type": "code",
      "metadata": {
        "id": "kTg-D89NdCld",
        "colab_type": "code",
        "colab": {
          "base_uri": "https://localhost:8080/",
          "height": 34
        },
        "outputId": "10501615-7473-4253-84de-47f3827b120e"
      },
      "source": [
        "def soma3(numa, numb, numc):\n",
        "  return float(numa)+float(numb)+float(numc)\n",
        "soma3(1,21,30)"
      ],
      "execution_count": 10,
      "outputs": [
        {
          "output_type": "execute_result",
          "data": {
            "text/plain": [
              "52.0"
            ]
          },
          "metadata": {
            "tags": []
          },
          "execution_count": 10
        }
      ]
    },
    {
      "cell_type": "markdown",
      "metadata": {
        "id": "KdLXZftIaG60",
        "colab_type": "text"
      },
      "source": [
        "4 - Faça um Programa que peça a temperatura em graus Celsius, transforme e mostre em graus Fahrenheit. \\\n",
        "*Dica: procure a fórmula para essa conversão na internet*"
      ]
    },
    {
      "cell_type": "code",
      "metadata": {
        "id": "990mQ6UhdwKl",
        "colab_type": "code",
        "colab": {
          "base_uri": "https://localhost:8080/",
          "height": 52
        },
        "outputId": "a73ff0a0-7068-4194-fc7a-44ec59fef162"
      },
      "source": [
        "def c_para_f():\n",
        "  temp_c = float(input(\"Informe a temperatura em graus Celsius: \"))\n",
        "  temp_f = temp_c*1.8+32\n",
        "  return f\"{temp_c} °C é igual a {temp_f} °F.\"\n",
        "c_para_f()"
      ],
      "execution_count": 22,
      "outputs": [
        {
          "output_type": "stream",
          "text": [
            "Informe a temperatura em graus Celsius: 0\n"
          ],
          "name": "stdout"
        },
        {
          "output_type": "execute_result",
          "data": {
            "application/vnd.google.colaboratory.intrinsic+json": {
              "type": "string"
            },
            "text/plain": [
              "'0.0 °C é igual a 32.0 °F.'"
            ]
          },
          "metadata": {
            "tags": []
          },
          "execution_count": 22
        }
      ]
    },
    {
      "cell_type": "markdown",
      "metadata": {
        "id": "FTK9nE4pdB1D",
        "colab_type": "text"
      },
      "source": [
        "5 - Faça um Programa que pergunte quanto você ganha por hora e o número de horas trabalhadas no mês. Calcule e mostre o total do seu salário no referido mês.\n"
      ]
    },
    {
      "cell_type": "code",
      "metadata": {
        "id": "nW4SbDxTmx4t",
        "colab_type": "code",
        "colab": {
          "base_uri": "https://localhost:8080/",
          "height": 69
        },
        "outputId": "fbe201ed-8a48-41db-fa5d-c15a15fa6418"
      },
      "source": [
        "def calcula_salario():\n",
        "  pagamento = float(input(\"Qual sua remuneração por hora? \"))\n",
        "  hora_trab = float(input(\"Quantas horas você trabalha por mês? \"))\n",
        "  return f\"Seu salário será de R$ {round(pagamento*hora_trab,2)}.\"\n",
        "calcula_salario()"
      ],
      "execution_count": 12,
      "outputs": [
        {
          "output_type": "stream",
          "text": [
            "Qual sua remuneração por hora? 12\n",
            "Quantas horas você trabalha por mês? 80\n"
          ],
          "name": "stdout"
        },
        {
          "output_type": "execute_result",
          "data": {
            "application/vnd.google.colaboratory.intrinsic+json": {
              "type": "string"
            },
            "text/plain": [
              "'Seu salário será de R$ 960.0.'"
            ]
          },
          "metadata": {
            "tags": []
          },
          "execution_count": 12
        }
      ]
    },
    {
      "cell_type": "markdown",
      "metadata": {
        "id": "_HbJNv8MaG4g",
        "colab_type": "text"
      },
      "source": [
        "6 - Faça um programa para uma loja de tintas. O programa deverá pedir o tamanho em metros quadrados da área a ser pintada. Considere que a cobertura da tinta é de 1 litro para cada 3 metros quadrados e que a tinta é vendida em latas de 18 litros, que custam R$ 80,00. Informe ao usuário a quantidades de latas de tinta a serem compradas e o preço total."
      ]
    },
    {
      "cell_type": "code",
      "metadata": {
        "id": "LJDxmAbJeO9V",
        "colab_type": "code",
        "colab": {
          "base_uri": "https://localhost:8080/",
          "height": 52
        },
        "outputId": "dbbad1a4-6c45-48ba-d7e4-f5deb27e5594"
      },
      "source": [
        "def calcula_tinta():\n",
        "  area = float(input(\"Informe a área em metros quadrados: \"))\n",
        "  cobertura = area/3\n",
        "  num_latas = cobertura/18\n",
        "  num_latas_arr = int(-(-num_latas//1))\n",
        "  return f\"Será(ão) usada(s) {num_latas_arr} lata(s) de tinta ao custo de R$ {round(num_latas_arr*80, 2)}.\"\n",
        "calcula_tinta()"
      ],
      "execution_count": 13,
      "outputs": [
        {
          "output_type": "stream",
          "text": [
            "Informe a área em metros quadrados: 108\n"
          ],
          "name": "stdout"
        },
        {
          "output_type": "execute_result",
          "data": {
            "application/vnd.google.colaboratory.intrinsic+json": {
              "type": "string"
            },
            "text/plain": [
              "'Será(ão) usada(s) 2 lata(s) de tinta ao custo de R$ 160.'"
            ]
          },
          "metadata": {
            "tags": []
          },
          "execution_count": 13
        }
      ]
    },
    {
      "cell_type": "markdown",
      "metadata": {
        "id": "0tkhm6EUaG1u",
        "colab_type": "text"
      },
      "source": [
        "7 - Faça um programa para a leitura de duas notas parciais de um aluno. O programa deve calcular a média alcançada por aluno e apresentar:\n",
        "- A mensagem \"Aprovado\", se a média alcançada for maior ou igual a sete;\n",
        "- A mensagem \"Reprovado\", se a média for menor do que sete;\n",
        "- A mensagem \"Aprovado com Distinção\", se a média for igual a dez."
      ]
    },
    {
      "cell_type": "code",
      "metadata": {
        "id": "MNINJ32eU45M",
        "colab_type": "code",
        "colab": {
          "base_uri": "https://localhost:8080/",
          "height": 69
        },
        "outputId": "a5feb34f-31bf-40d0-fbd0-5597c430b70b"
      },
      "source": [
        "def notas():\n",
        "  nota1 = float(input(\" Insira a primeira nota: \"))\n",
        "  nota2 = float(input(\" Insira a segunda nota: \"))\n",
        "  media = (nota1+nota2)/2\n",
        "  if media == 10:\n",
        "    return f\"Aprovado com distinção com a nota {media}\"\n",
        "  if media >= 7:\n",
        "    return f\"Aprovado com a nota {media}\"\n",
        "  else:\n",
        "    return f\"Reprovado com a nota {media}\"\n",
        "notas()"
      ],
      "execution_count": 14,
      "outputs": [
        {
          "output_type": "stream",
          "text": [
            " Insira a primeira nota: 10\n",
            " Insira a segunda nota: 1\n"
          ],
          "name": "stdout"
        },
        {
          "output_type": "execute_result",
          "data": {
            "application/vnd.google.colaboratory.intrinsic+json": {
              "type": "string"
            },
            "text/plain": [
              "'Reprovado com a nota 5.5'"
            ]
          },
          "metadata": {
            "tags": []
          },
          "execution_count": 14
        }
      ]
    },
    {
      "cell_type": "markdown",
      "metadata": {
        "id": "4OETBVgmaGzX",
        "colab_type": "text"
      },
      "source": [
        "8 - Faça um Programa que peça um número inteiro e determine se ele é par ou impar. Dica: utilize o operador módulo (resto da divisão)."
      ]
    },
    {
      "cell_type": "code",
      "metadata": {
        "id": "WbzCimFZVSr1",
        "colab_type": "code",
        "colab": {
          "base_uri": "https://localhost:8080/",
          "height": 52
        },
        "outputId": "7510c173-adb6-4375-e7ca-5193ca157c5b"
      },
      "source": [
        "def par_ou_impar():\n",
        "  num = int(input(\"Digite um número inteiro: \"))\n",
        "  if num % 2 == 0:\n",
        "    return \"O número digitado é par.\"\n",
        "  else:\n",
        "    return \"O número digitado é ímpar.\"\n",
        "par_ou_impar()"
      ],
      "execution_count": 15,
      "outputs": [
        {
          "output_type": "stream",
          "text": [
            "Digite um número inteiro: 254\n"
          ],
          "name": "stdout"
        },
        {
          "output_type": "execute_result",
          "data": {
            "application/vnd.google.colaboratory.intrinsic+json": {
              "type": "string"
            },
            "text/plain": [
              "'O número digitado é par.'"
            ]
          },
          "metadata": {
            "tags": []
          },
          "execution_count": 15
        }
      ]
    },
    {
      "cell_type": "markdown",
      "metadata": {
        "id": "7zPJ8sgPaGw0",
        "colab_type": "text"
      },
      "source": [
        "9 - Faça um programa que peça o tamanho de um arquivo para download (em MB) e a velocidade de um link de Internet (em Mbps), calcule e informe o tempo aproximado de download do arquivo usando este link (em minutos)."
      ]
    },
    {
      "cell_type": "code",
      "metadata": {
        "id": "wofyu8kaFy59",
        "colab_type": "code",
        "colab": {
          "base_uri": "https://localhost:8080/",
          "height": 69
        },
        "outputId": "9415c236-1c5e-4ad8-aa0d-194ed0649466"
      },
      "source": [
        "def calcula_tempo():\n",
        "  tamanho = float(input(\"Informe o tamanho do arquivo em MB: \"))*8\n",
        "  velocidade = float(input(\"Informe a velocidade da conexão em Mbps: \"))\n",
        "  tempo = (tamanho/velocidade)/60\n",
        "  return f\"O tempo estimado de download é de {round(tempo, 2)} minuto(s).\"\n",
        "calcula_tempo()"
      ],
      "execution_count": 16,
      "outputs": [
        {
          "output_type": "stream",
          "text": [
            "Informe o tamanho do arquivo em MB: 1024\n",
            "Informe a velocidade da conexão em Mbps: 20\n"
          ],
          "name": "stdout"
        },
        {
          "output_type": "execute_result",
          "data": {
            "application/vnd.google.colaboratory.intrinsic+json": {
              "type": "string"
            },
            "text/plain": [
              "'O tempo estimado de download é de 6.83 minuto(s).'"
            ]
          },
          "metadata": {
            "tags": []
          },
          "execution_count": 16
        }
      ]
    },
    {
      "cell_type": "code",
      "metadata": {
        "id": "VPzhHWq5F1t0",
        "colab_type": "code",
        "colab": {}
      },
      "source": [
        ""
      ],
      "execution_count": 16,
      "outputs": []
    }
  ]
}